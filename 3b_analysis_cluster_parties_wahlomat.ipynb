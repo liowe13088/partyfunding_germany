{
 "cells": [
  {
   "cell_type": "markdown",
   "id": "e31311ce",
   "metadata": {},
   "source": [
    "# Generate a classification for the parties where they stay within the political spectrum based on Wahlomat data\n",
    "\n",
    "##### approach:\n",
    "- append the answer vectors of all elections looked at and cluster\n",
    "- plausibility check > decide for \"final model\" to classify based on"
   ]
  },
  {
   "cell_type": "code",
   "execution_count": 35,
   "id": "efb58578",
   "metadata": {},
   "outputs": [],
   "source": [
    "# load files\n",
    "\n",
    "import pickle\n",
    "file = open(\"data/election_data_since_2010.obj\",\"rb\")\n",
    "election_df = pickle.load(file)\n",
    "file.close()\n",
    "\n",
    "file = open(\"data/twitter_sample.obj\",\"rb\")\n",
    "twitter_df = pickle.load(file)\n",
    "file.close()"
   ]
  },
  {
   "cell_type": "code",
   "execution_count": 36,
   "id": "bb83bfb3",
   "metadata": {},
   "outputs": [
    {
     "data": {
      "text/html": [
       "<div>\n",
       "<style scoped>\n",
       "    .dataframe tbody tr th:only-of-type {\n",
       "        vertical-align: middle;\n",
       "    }\n",
       "\n",
       "    .dataframe tbody tr th {\n",
       "        vertical-align: top;\n",
       "    }\n",
       "\n",
       "    .dataframe thead th {\n",
       "        text-align: right;\n",
       "    }\n",
       "</style>\n",
       "<table border=\"1\" class=\"dataframe\">\n",
       "  <thead>\n",
       "    <tr style=\"text-align: right;\">\n",
       "      <th></th>\n",
       "      <th>party</th>\n",
       "      <th>pct</th>\n",
       "      <th>election</th>\n",
       "      <th>election_only</th>\n",
       "      <th>year</th>\n",
       "      <th>level</th>\n",
       "      <th>date</th>\n",
       "    </tr>\n",
       "  </thead>\n",
       "  <tbody>\n",
       "    <tr>\n",
       "      <th>0</th>\n",
       "      <td>PIRATEN</td>\n",
       "      <td>8.90</td>\n",
       "      <td>Abgeordnetenhauswahl Berlin 2011</td>\n",
       "      <td>Abgeordnetenhauswahl Berlin</td>\n",
       "      <td>2011</td>\n",
       "      <td>federal state</td>\n",
       "      <td>2011-09-18T00:00:00</td>\n",
       "    </tr>\n",
       "    <tr>\n",
       "      <th>1</th>\n",
       "      <td>DIE PARTEI</td>\n",
       "      <td>0.88</td>\n",
       "      <td>Abgeordnetenhauswahl Berlin 2011</td>\n",
       "      <td>Abgeordnetenhauswahl Berlin</td>\n",
       "      <td>2011</td>\n",
       "      <td>federal state</td>\n",
       "      <td>2011-09-18T00:00:00</td>\n",
       "    </tr>\n",
       "    <tr>\n",
       "      <th>2</th>\n",
       "      <td>ÖDP</td>\n",
       "      <td>0.13</td>\n",
       "      <td>Abgeordnetenhauswahl Berlin 2011</td>\n",
       "      <td>Abgeordnetenhauswahl Berlin</td>\n",
       "      <td>2011</td>\n",
       "      <td>federal state</td>\n",
       "      <td>2011-09-18T00:00:00</td>\n",
       "    </tr>\n",
       "  </tbody>\n",
       "</table>\n",
       "</div>"
      ],
      "text/plain": [
       "        party   pct                          election  \\\n",
       "0     PIRATEN  8.90  Abgeordnetenhauswahl Berlin 2011   \n",
       "1  DIE PARTEI  0.88  Abgeordnetenhauswahl Berlin 2011   \n",
       "2         ÖDP  0.13  Abgeordnetenhauswahl Berlin 2011   \n",
       "\n",
       "                 election_only  year          level                 date  \n",
       "0  Abgeordnetenhauswahl Berlin  2011  federal state  2011-09-18T00:00:00  \n",
       "1  Abgeordnetenhauswahl Berlin  2011  federal state  2011-09-18T00:00:00  \n",
       "2  Abgeordnetenhauswahl Berlin  2011  federal state  2011-09-18T00:00:00  "
      ]
     },
     "execution_count": 36,
     "metadata": {},
     "output_type": "execute_result"
    }
   ],
   "source": [
    "election_df.head(3)"
   ]
  },
  {
   "cell_type": "code",
   "execution_count": 37,
   "id": "e211d3ac",
   "metadata": {},
   "outputs": [
    {
     "data": {
      "text/html": [
       "<div>\n",
       "<style scoped>\n",
       "    .dataframe tbody tr th:only-of-type {\n",
       "        vertical-align: middle;\n",
       "    }\n",
       "\n",
       "    .dataframe tbody tr th {\n",
       "        vertical-align: top;\n",
       "    }\n",
       "\n",
       "    .dataframe thead th {\n",
       "        text-align: right;\n",
       "    }\n",
       "</style>\n",
       "<table border=\"1\" class=\"dataframe\">\n",
       "  <thead>\n",
       "    <tr style=\"text-align: right;\">\n",
       "      <th></th>\n",
       "      <th>date</th>\n",
       "      <th>content</th>\n",
       "      <th>renderedContent</th>\n",
       "      <th>id</th>\n",
       "      <th>user</th>\n",
       "      <th>replyCount</th>\n",
       "      <th>retweetCount</th>\n",
       "      <th>likeCount</th>\n",
       "      <th>quoteCount</th>\n",
       "      <th>mentionedUsers</th>\n",
       "      <th>hashtags</th>\n",
       "      <th>cashtags</th>\n",
       "      <th>media</th>\n",
       "      <th>outlinks</th>\n",
       "      <th>retweetedTweet</th>\n",
       "      <th>quotedTweet</th>\n",
       "      <th>inReplyToTweetId</th>\n",
       "      <th>party</th>\n",
       "    </tr>\n",
       "  </thead>\n",
       "  <tbody>\n",
       "    <tr>\n",
       "      <th>0</th>\n",
       "      <td>2022-01-17 11:08:31+00:00</td>\n",
       "      <td>Manne Weber, auf dem Bild der zweifelsfrei als...</td>\n",
       "      <td>Manne Weber, auf dem Bild der zweifelsfrei als...</td>\n",
       "      <td>1483033488546742272</td>\n",
       "      <td>https://twitter.com/DiePARTEI</td>\n",
       "      <td>6</td>\n",
       "      <td>9</td>\n",
       "      <td>95</td>\n",
       "      <td>1</td>\n",
       "      <td>None</td>\n",
       "      <td>None</td>\n",
       "      <td>None</td>\n",
       "      <td>None</td>\n",
       "      <td>[https://twitter.com/mikeschier/status/1481337...</td>\n",
       "      <td>None</td>\n",
       "      <td>https://twitter.com/mikeschier/status/14813371...</td>\n",
       "      <td>None</td>\n",
       "      <td>DIE PARTEI</td>\n",
       "    </tr>\n",
       "    <tr>\n",
       "      <th>1</th>\n",
       "      <td>2022-01-11 11:02:09+00:00</td>\n",
       "      <td>@CSU https://t.co/DAEsinRGKM</td>\n",
       "      <td>@CSU https://t.co/DAEsinRGKM</td>\n",
       "      <td>1480857557287804928</td>\n",
       "      <td>https://twitter.com/DiePARTEI</td>\n",
       "      <td>3</td>\n",
       "      <td>7</td>\n",
       "      <td>346</td>\n",
       "      <td>0</td>\n",
       "      <td>[https://twitter.com/CSU]</td>\n",
       "      <td>None</td>\n",
       "      <td>None</td>\n",
       "      <td>[Video(thumbnailUrl='https://pbs.twimg.com/ext...</td>\n",
       "      <td>None</td>\n",
       "      <td>None</td>\n",
       "      <td>None</td>\n",
       "      <td>1480853747840557061</td>\n",
       "      <td>DIE PARTEI</td>\n",
       "    </tr>\n",
       "    <tr>\n",
       "      <th>2</th>\n",
       "      <td>2022-01-06 18:21:16+00:00</td>\n",
       "      <td>https://t.co/HjbPmGL396 https://t.co/BIGFBbWSDp</td>\n",
       "      <td>twitter.com/QaharBalkhi/st… https://t.co/BIGFB...</td>\n",
       "      <td>1479156126646247439</td>\n",
       "      <td>https://twitter.com/DiePARTEI</td>\n",
       "      <td>0</td>\n",
       "      <td>10</td>\n",
       "      <td>108</td>\n",
       "      <td>0</td>\n",
       "      <td>None</td>\n",
       "      <td>None</td>\n",
       "      <td>None</td>\n",
       "      <td>[Gif(thumbnailUrl='https://pbs.twimg.com/tweet...</td>\n",
       "      <td>[https://twitter.com/QaharBalkhi/status/147913...</td>\n",
       "      <td>None</td>\n",
       "      <td>https://twitter.com/QaharBalkhi/status/1479135...</td>\n",
       "      <td>None</td>\n",
       "      <td>DIE PARTEI</td>\n",
       "    </tr>\n",
       "  </tbody>\n",
       "</table>\n",
       "</div>"
      ],
      "text/plain": [
       "                       date  \\\n",
       "0 2022-01-17 11:08:31+00:00   \n",
       "1 2022-01-11 11:02:09+00:00   \n",
       "2 2022-01-06 18:21:16+00:00   \n",
       "\n",
       "                                             content  \\\n",
       "0  Manne Weber, auf dem Bild der zweifelsfrei als...   \n",
       "1                       @CSU https://t.co/DAEsinRGKM   \n",
       "2    https://t.co/HjbPmGL396 https://t.co/BIGFBbWSDp   \n",
       "\n",
       "                                     renderedContent                   id  \\\n",
       "0  Manne Weber, auf dem Bild der zweifelsfrei als...  1483033488546742272   \n",
       "1                       @CSU https://t.co/DAEsinRGKM  1480857557287804928   \n",
       "2  twitter.com/QaharBalkhi/st… https://t.co/BIGFB...  1479156126646247439   \n",
       "\n",
       "                            user replyCount retweetCount likeCount quoteCount  \\\n",
       "0  https://twitter.com/DiePARTEI          6            9        95          1   \n",
       "1  https://twitter.com/DiePARTEI          3            7       346          0   \n",
       "2  https://twitter.com/DiePARTEI          0           10       108          0   \n",
       "\n",
       "              mentionedUsers hashtags cashtags  \\\n",
       "0                       None     None     None   \n",
       "1  [https://twitter.com/CSU]     None     None   \n",
       "2                       None     None     None   \n",
       "\n",
       "                                               media  \\\n",
       "0                                               None   \n",
       "1  [Video(thumbnailUrl='https://pbs.twimg.com/ext...   \n",
       "2  [Gif(thumbnailUrl='https://pbs.twimg.com/tweet...   \n",
       "\n",
       "                                            outlinks retweetedTweet  \\\n",
       "0  [https://twitter.com/mikeschier/status/1481337...           None   \n",
       "1                                               None           None   \n",
       "2  [https://twitter.com/QaharBalkhi/status/147913...           None   \n",
       "\n",
       "                                         quotedTweet     inReplyToTweetId  \\\n",
       "0  https://twitter.com/mikeschier/status/14813371...                 None   \n",
       "1                                               None  1480853747840557061   \n",
       "2  https://twitter.com/QaharBalkhi/status/1479135...                 None   \n",
       "\n",
       "        party  \n",
       "0  DIE PARTEI  \n",
       "1  DIE PARTEI  \n",
       "2  DIE PARTEI  "
      ]
     },
     "execution_count": 37,
     "metadata": {},
     "output_type": "execute_result"
    }
   ],
   "source": [
    "twitter_df.head(3)"
   ]
  },
  {
   "cell_type": "code",
   "execution_count": null,
   "id": "7053f716",
   "metadata": {},
   "outputs": [],
   "source": [
    "# the data needs to be download first from the git hub repro:\n",
    "# https://github.com/gockelhahn/qual-o-mat-data"
   ]
  },
  {
   "cell_type": "code",
   "execution_count": 38,
   "id": "ec848338",
   "metadata": {},
   "outputs": [],
   "source": [
    "## go through all relevant folders (year and import elections within)\n",
    "\n",
    "import json\n",
    "import os\n",
    "\n",
    "years = [\"2011\",\"2012\",\"2013\",\"2014\",\"2015\",\"2016\",\"2017\",\"2018\",\"2019\",\"2020\",\"2021\"]\n",
    "base_path = \"qual-o-mat-data-master/data/\"\n",
    "\n",
    "def paths_for_year(y,base_path):\n",
    "    elections = os.listdir(f\"{base_path}{y}/\")\n",
    "    return [base_path+y+\"/\"+x+\"/\" for x in elections]"
   ]
  },
  {
   "cell_type": "code",
   "execution_count": 39,
   "id": "a7ba4e4b",
   "metadata": {},
   "outputs": [],
   "source": [
    "paths = []\n",
    "\n",
    "for y in years:\n",
    "    paths.extend(paths_for_year(y,base_path))"
   ]
  },
  {
   "cell_type": "code",
   "execution_count": 40,
   "id": "26b716dd",
   "metadata": {},
   "outputs": [],
   "source": [
    "wahlomat_data = {} # key: yearstate\n",
    "\n",
    "# three jsons are important for us: opinion (answer vectors)\n",
    "# party: to translate party encoding into name\n",
    "# answer: tocompare answer encoding between elections(same encoding?)\n",
    "# overview: metadata\n",
    "\n",
    "def import_jsons(path):\n",
    "    with open(path, \"r\", encoding=\"utf-8\") as f:\n",
    "        return json.load(f)\n",
    "    \n",
    "\n",
    "# load the differen data for each election into a dict where the key is the election name\n",
    "for p in paths:\n",
    "    opinion = import_jsons(f\"{p}opinion.json\")\n",
    "    party = import_jsons(f\"{p}party.json\")\n",
    "    answer = import_jsons(f\"{p}answer.json\")\n",
    "    overview = import_jsons(f\"{p}overview.json\")\n",
    "    title = overview[\"title\"]\n",
    "    date = overview[\"date\"] #yyy-mm-dd\n",
    "    \n",
    "    wahlomat_data[f\"{title} {date[:4]}\"] = {\"overview\":overview,\n",
    "                                            \"opinion\":opinion,\n",
    "                                            \"answer\":answer,\n",
    "                                            \"party\":party}\n",
    "    "
   ]
  },
  {
   "cell_type": "code",
   "execution_count": 41,
   "id": "dc939f87",
   "metadata": {},
   "outputs": [],
   "source": [
    "\n",
    "def party_dict_gen(party_json):\n",
    "    '''\n",
    "    input: jsons for one election\n",
    "    out: dict to translate from party id to party name\n",
    "    '''\n",
    "    \n",
    "    out = {}\n",
    "    \n",
    "    for i in party_json:\n",
    "        out[i[\"id\"]] = i[\"name\"]\n",
    "        \n",
    "    return out\n",
    "\n",
    "def opinion_dict(opinion):\n",
    "    '''\n",
    "    input: opinion jason for election\n",
    "    out: dict containing party id as key and answer vector as item\n",
    "    '''\n",
    "    o_dict = {} #each parties digit code will be key and the value a list of its answers to the statements\n",
    "\n",
    "    for o in opinion:\n",
    "        party_ = o[\"party\"]\n",
    "        if party_ in o_dict.keys():\n",
    "            o_dict[party_].append(o[\"answer\"])\n",
    "        else:\n",
    "            o_dict[party_] = [o[\"answer\"]]\n",
    "    return o_dict"
   ]
  },
  {
   "cell_type": "code",
   "execution_count": 42,
   "id": "dd55083a",
   "metadata": {},
   "outputs": [],
   "source": [
    "def encode_party(opinion_dict, party_dict):\n",
    "    '''\n",
    "    changes key of opinion dict from id to party name\n",
    "    '''\n",
    "    new_opinion_dict= {}\n",
    "    \n",
    "    for k,v in opinion_dict.items():\n",
    "        new_opinion_dict[party_dict[k]] = v\n",
    "    return new_opinion_dict\n",
    "    "
   ]
  },
  {
   "cell_type": "code",
   "execution_count": 43,
   "id": "00d36669",
   "metadata": {},
   "outputs": [
    {
     "data": {
      "text/html": [
       "<div>\n",
       "<style scoped>\n",
       "    .dataframe tbody tr th:only-of-type {\n",
       "        vertical-align: middle;\n",
       "    }\n",
       "\n",
       "    .dataframe tbody tr th {\n",
       "        vertical-align: top;\n",
       "    }\n",
       "\n",
       "    .dataframe thead th {\n",
       "        text-align: right;\n",
       "    }\n",
       "</style>\n",
       "<table border=\"1\" class=\"dataframe\">\n",
       "  <thead>\n",
       "    <tr style=\"text-align: right;\">\n",
       "      <th></th>\n",
       "      <th>election</th>\n",
       "      <th>name</th>\n",
       "      <th>date</th>\n",
       "      <th>opinions</th>\n",
       "    </tr>\n",
       "  </thead>\n",
       "  <tbody>\n",
       "    <tr>\n",
       "      <th>9</th>\n",
       "      <td>Bundestagswahl 2013</td>\n",
       "      <td>Bundestagswahl</td>\n",
       "      <td>2013-09-22</td>\n",
       "      <td>{'SPD': [0, 1, 1, 0, 0, 2, 1, 2, 0, 0, 1, 1, 1...</td>\n",
       "    </tr>\n",
       "    <tr>\n",
       "      <th>12</th>\n",
       "      <td>Europawahl 2014</td>\n",
       "      <td>Europawahl</td>\n",
       "      <td>2014-05-25</td>\n",
       "      <td>{'CDU': [0, 1, 2, 1, 1, 2, 1, 1, 2, 0, 0, 1, 1...</td>\n",
       "    </tr>\n",
       "    <tr>\n",
       "      <th>21</th>\n",
       "      <td>Bundestagswahl 2017</td>\n",
       "      <td>Bundestagswahl</td>\n",
       "      <td>2017-09-24</td>\n",
       "      <td>{'SPD': [1, 1, 1, 0, 0, 2, 0, 2, 1, 2, 0, 1, 1...</td>\n",
       "    </tr>\n",
       "  </tbody>\n",
       "</table>\n",
       "</div>"
      ],
      "text/plain": [
       "               election            name        date  \\\n",
       "9   Bundestagswahl 2013  Bundestagswahl  2013-09-22   \n",
       "12      Europawahl 2014      Europawahl  2014-05-25   \n",
       "21  Bundestagswahl 2017  Bundestagswahl  2017-09-24   \n",
       "\n",
       "                                             opinions  \n",
       "9   {'SPD': [0, 1, 1, 0, 0, 2, 1, 2, 0, 0, 1, 1, 1...  \n",
       "12  {'CDU': [0, 1, 2, 1, 1, 2, 1, 1, 2, 0, 0, 1, 1...  \n",
       "21  {'SPD': [1, 1, 1, 0, 0, 2, 0, 2, 1, 2, 0, 1, 1...  "
      ]
     },
     "execution_count": 43,
     "metadata": {},
     "output_type": "execute_result"
    }
   ],
   "source": [
    "rows = []\n",
    "\n",
    "# go through each election in the wahlomat dict\n",
    "for election,item in wahlomat_data.items():\n",
    "    n = item[\"overview\"][\"title\"] # get election title\n",
    "    d = item[\"overview\"][\"date\"] # get election date\n",
    "    o = opinion_dict(item[\"opinion\"]) # get opinion dict for election where key=party id and item=answer vector\n",
    "    p_dict = party_dict_gen(item[\"party\"]) #id to party dict for respective election\n",
    "    \n",
    "    \n",
    "    ##adjust opinion dict party names\n",
    "    o = encode_party(o,p_dict)\n",
    "    \n",
    "    # append read out data to rows list\n",
    "    rows.append({\"election\":election,\"name\":n,\"date\":d,\"opinions\":o})\n",
    "    \n",
    "import pandas as pd\n",
    "\n",
    "# generate dataframe from loaded data\n",
    "wahlomat_df = pd.DataFrame(rows)\n",
    "\n",
    "### do the clustering for all parties that participated in state and europe elections since 2011\n",
    "### use the outcome to classify the party sample, republikaner get classified manually/ based on a subclustering based on its elections\n",
    "\n",
    "# 1. filter wahlomat_ds for relevant elections\n",
    "\n",
    "cluster_df = wahlomat_df[(wahlomat_df[\"name\"] == \"Bundestagswahl\") | (wahlomat_df[\"name\"] == \"Europawahl\")]\n",
    "\n",
    "# 2. adjust union/cdu csu\n",
    "## one election they are seperated, add to the other 4 one init for each of them (with same values)\n",
    "\n",
    "cluster_df.loc[9,\"opinions\"][\"CDU\"] = cluster_df.loc[9,\"opinions\"]['CDU / CSU']\n",
    "cluster_df.loc[9,\"opinions\"][\"CSU\"] = cluster_df.loc[9,\"opinions\"]['CDU / CSU']\n",
    "\n",
    "cluster_df.loc[21,\"opinions\"][\"CDU\"] = cluster_df.loc[21,\"opinions\"]['CDU/CSU']\n",
    "cluster_df.loc[21,\"opinions\"][\"CSU\"] = cluster_df.loc[21,\"opinions\"]['CDU/CSU']\n",
    "\n",
    "cluster_df.loc[29,\"opinions\"][\"CDU\"] = cluster_df.loc[29,\"opinions\"]['CDU / CSU']\n",
    "cluster_df.loc[29,\"opinions\"][\"CSU\"] = cluster_df.loc[29,\"opinions\"]['CDU / CSU']\n",
    "\n",
    "cluster_df.loc[35,\"opinions\"][\"CSU\"] = cluster_df.loc[35,\"opinions\"]['CDU / CSU']\n",
    "cluster_df.loc[35,\"opinions\"][\"CDU\"] = cluster_df.loc[35,\"opinions\"]['CDU / CSU']\n",
    "\n",
    "# delete csu/cdu entries\n",
    "cluster_df.loc[9,\"opinions\"].pop(\"CDU / CSU\")\n",
    "cluster_df.loc[21,\"opinions\"].pop(\"CDU/CSU\")\n",
    "cluster_df.loc[29,\"opinions\"].pop(\"CDU / CSU\")\n",
    "cluster_df.loc[35,\"opinions\"].pop(\"CDU / CSU\")\n",
    "\n",
    "cluster_df.head(3)"
   ]
  },
  {
   "cell_type": "code",
   "execution_count": null,
   "id": "07ff4b61",
   "metadata": {},
   "outputs": [],
   "source": []
  },
  {
   "cell_type": "code",
   "execution_count": 44,
   "id": "55cd9b45",
   "metadata": {},
   "outputs": [
    {
     "name": "stdout",
     "output_type": "stream",
     "text": [
      "{'Bündnis C', 'Partei der Nichtwähler', 'LfK', 'GRÜNE', 'Volksabstimmung', 'Allianz Deutscher Demokraten', 'V-Partei³', 'DIE RECHTE', 'du.', 'Team Todenhöfer', 'PARTEI DER VERNUNFT', 'Bündnis 21/RRP', 'BüSo', 'PDV', 'NPD', 'III. Weg', 'Graue Panther', 'BP', 'LKR', 'PRO NRW', 'BÜNDNIS21', 'CM', 'Tierschutzallianz', 'UNABHÄNGIGE', 'BGE', 'BÜRGERBEWEGUNG', 'CDU', 'PdF', 'FDP', 'FAMILIE', 'MENSCHLICHE WELT', 'LIEBE', 'NL', 'DiB', 'PARTEI FÜR DIE TIERE', 'DKP', 'B*', 'REP', 'Gesundheitsforschung', 'ÖkoLinX', 'SGP', 'Die PARTEI', 'RENTNER', 'DIE LINKE', 'MLPD', 'ÖDP', 'TIERSCHUTZ hier!', 'CSU', 'DIE DIREKTE!', 'AUF', 'PBC', 'FREIE WÄHLER', 'PSG', 'DM', 'PIRATEN', 'SPD', 'Die Humanisten', 'Tierschutzpartei', 'DIE FRAUEN', 'Die Grauen', 'DIE VIOLETTEN', 'DiEM25', 'dieBasis', 'BIG', 'Volt', 'AfD', 'SSW', 'pro Deutschland'}\n"
     ]
    }
   ],
   "source": [
    "\n",
    "# 3. check names here and align to filter for parties participating in all 5 elections\n",
    "parties_wahlomat = []\n",
    "\n",
    "for op in cluster_df.opinions:\n",
    "    parties = op.keys()\n",
    "    parties_wahlomat.extend(parties)\n",
    "    \n",
    "print(set(parties_wahlomat))"
   ]
  },
  {
   "cell_type": "code",
   "execution_count": 45,
   "id": "c77b38d2",
   "metadata": {},
   "outputs": [],
   "source": [
    "# to correct\n",
    "\n",
    "cluster_df.reset_index(drop=True,inplace=True)\n",
    "cluster_df.loc[0,\"opinions\"][\"BÜNDNIS21\"] = cluster_df.loc[0,\"opinions\"].pop('Bündnis 21/RRP')\n"
   ]
  },
  {
   "cell_type": "code",
   "execution_count": 46,
   "id": "509b988c",
   "metadata": {},
   "outputs": [
    {
     "data": {
      "text/html": [
       "<div>\n",
       "<style scoped>\n",
       "    .dataframe tbody tr th:only-of-type {\n",
       "        vertical-align: middle;\n",
       "    }\n",
       "\n",
       "    .dataframe tbody tr th {\n",
       "        vertical-align: top;\n",
       "    }\n",
       "\n",
       "    .dataframe thead th {\n",
       "        text-align: right;\n",
       "    }\n",
       "</style>\n",
       "<table border=\"1\" class=\"dataframe\">\n",
       "  <thead>\n",
       "    <tr style=\"text-align: right;\">\n",
       "      <th></th>\n",
       "      <th>election</th>\n",
       "      <th>name</th>\n",
       "      <th>date</th>\n",
       "      <th>opinions</th>\n",
       "    </tr>\n",
       "  </thead>\n",
       "  <tbody>\n",
       "    <tr>\n",
       "      <th>0</th>\n",
       "      <td>Bundestagswahl 2013</td>\n",
       "      <td>Bundestagswahl</td>\n",
       "      <td>2013-09-22</td>\n",
       "      <td>{'SPD': [0, 1, 1, 0, 0, 2, 1, 2, 0, 0, 1, 1, 1...</td>\n",
       "    </tr>\n",
       "    <tr>\n",
       "      <th>1</th>\n",
       "      <td>Europawahl 2014</td>\n",
       "      <td>Europawahl</td>\n",
       "      <td>2014-05-25</td>\n",
       "      <td>{'CDU': [0, 1, 2, 1, 1, 2, 1, 1, 2, 0, 0, 1, 1...</td>\n",
       "    </tr>\n",
       "    <tr>\n",
       "      <th>2</th>\n",
       "      <td>Bundestagswahl 2017</td>\n",
       "      <td>Bundestagswahl</td>\n",
       "      <td>2017-09-24</td>\n",
       "      <td>{'SPD': [1, 1, 1, 0, 0, 2, 0, 2, 1, 2, 0, 1, 1...</td>\n",
       "    </tr>\n",
       "    <tr>\n",
       "      <th>3</th>\n",
       "      <td>Europawahl 2019</td>\n",
       "      <td>Europawahl</td>\n",
       "      <td>2019-05-26</td>\n",
       "      <td>{'SPD': [0, 0, 0, 0, 1, 0, 0, 1, 1, 0, 0, 2, 0...</td>\n",
       "    </tr>\n",
       "    <tr>\n",
       "      <th>4</th>\n",
       "      <td>Bundestagswahl 2021</td>\n",
       "      <td>Bundestagswahl</td>\n",
       "      <td>2021-09-26</td>\n",
       "      <td>{'SPD': [0, 0, 0, 1, 0, 0, 0, 0, 1, 0, 1, 0, 1...</td>\n",
       "    </tr>\n",
       "  </tbody>\n",
       "</table>\n",
       "</div>"
      ],
      "text/plain": [
       "              election            name        date  \\\n",
       "0  Bundestagswahl 2013  Bundestagswahl  2013-09-22   \n",
       "1      Europawahl 2014      Europawahl  2014-05-25   \n",
       "2  Bundestagswahl 2017  Bundestagswahl  2017-09-24   \n",
       "3      Europawahl 2019      Europawahl  2019-05-26   \n",
       "4  Bundestagswahl 2021  Bundestagswahl  2021-09-26   \n",
       "\n",
       "                                            opinions  \n",
       "0  {'SPD': [0, 1, 1, 0, 0, 2, 1, 2, 0, 0, 1, 1, 1...  \n",
       "1  {'CDU': [0, 1, 2, 1, 1, 2, 1, 1, 2, 0, 0, 1, 1...  \n",
       "2  {'SPD': [1, 1, 1, 0, 0, 2, 0, 2, 1, 2, 0, 1, 1...  \n",
       "3  {'SPD': [0, 0, 0, 0, 1, 0, 0, 1, 1, 0, 0, 2, 0...  \n",
       "4  {'SPD': [0, 0, 0, 1, 0, 0, 0, 0, 1, 0, 1, 0, 1...  "
      ]
     },
     "execution_count": 46,
     "metadata": {},
     "output_type": "execute_result"
    }
   ],
   "source": [
    "cluster_df"
   ]
  },
  {
   "cell_type": "code",
   "execution_count": 47,
   "id": "b97dd476",
   "metadata": {},
   "outputs": [
    {
     "name": "stdout",
     "output_type": "stream",
     "text": [
      "{'Bündnis C', 'Partei der Nichtwähler', 'LfK', 'GRÜNE', 'Volksabstimmung', 'Allianz Deutscher Demokraten', 'V-Partei³', 'DIE RECHTE', 'du.', 'Team Todenhöfer', 'PARTEI DER VERNUNFT', 'Graue Panther', 'BüSo', 'BÜNDNIS21', 'NPD', 'PDV', 'III. Weg', 'BP', 'LKR', 'PRO NRW', 'CM', 'Tierschutzallianz', 'UNABHÄNGIGE', 'BGE', 'BÜRGERBEWEGUNG', 'CDU', 'PdF', 'FDP', 'FAMILIE', 'MENSCHLICHE WELT', 'LIEBE', 'NL', 'DiB', 'PARTEI FÜR DIE TIERE', 'DKP', 'B*', 'REP', 'Gesundheitsforschung', 'ÖkoLinX', 'SGP', 'Die PARTEI', 'RENTNER', 'DIE LINKE', 'MLPD', 'ÖDP', 'TIERSCHUTZ hier!', 'CSU', 'DIE DIREKTE!', 'AUF', 'PBC', 'FREIE WÄHLER', 'PSG', 'DM', 'PIRATEN', 'SPD', 'Die Humanisten', 'Tierschutzpartei', 'DIE FRAUEN', 'Die Grauen', 'DIE VIOLETTEN', 'DiEM25', 'dieBasis', 'BIG', 'Volt', 'AfD', 'SSW', 'pro Deutschland'}\n"
     ]
    }
   ],
   "source": [
    "parties_wahlomat = []\n",
    "\n",
    "for op in cluster_df.opinions:\n",
    "    parties = op.keys()\n",
    "    parties_wahlomat.extend(parties)\n",
    "    \n",
    "print(set(parties_wahlomat))"
   ]
  },
  {
   "cell_type": "code",
   "execution_count": 48,
   "id": "10a1ba9d",
   "metadata": {},
   "outputs": [
    {
     "name": "stdout",
     "output_type": "stream",
     "text": [
      "{'CDU', 'CSU', 'FDP', 'SPD', 'GRÜNE', 'Tierschutzpartei', 'FREIE WÄHLER', 'NPD', 'Die PARTEI', 'BP', 'DIE LINKE', 'PIRATEN', 'AfD', 'MLPD', 'ÖDP'}\n"
     ]
    }
   ],
   "source": [
    "# chech for parties that run for all 5 election\n",
    "\n",
    "parties_sets = []\n",
    "\n",
    "for i in cluster_df[\"opinions\"]:\n",
    "    \n",
    "    # add sets for each election to list\n",
    "    parties_sets.append(set(i.keys()))\n",
    "    \n",
    "# get intersection between these sets\n",
    "print(set.intersection(*parties_sets))"
   ]
  },
  {
   "cell_type": "code",
   "execution_count": 49,
   "id": "82f51931",
   "metadata": {},
   "outputs": [
    {
     "data": {
      "text/plain": [
       "array(['PIRATEN', 'DIE PARTEI', 'ÖDP', 'REP', 'BP'], dtype=object)"
      ]
     },
     "execution_count": 49,
     "metadata": {},
     "output_type": "execute_result"
    }
   ],
   "source": [
    "election_df.party.unique()"
   ]
  },
  {
   "cell_type": "markdown",
   "id": "3ca8d9f5",
   "metadata": {},
   "source": [
    "#### comments\n",
    "- Pirates, die partei, ödp and bp participated in all 5 elections\n",
    "- for republicans a seperate clustering will be conducted"
   ]
  },
  {
   "cell_type": "code",
   "execution_count": 50,
   "id": "f324c384",
   "metadata": {},
   "outputs": [],
   "source": [
    "cluster_sample_parties = list(set.intersection(*parties_sets))\n",
    "opinion_total = dict.fromkeys(cluster_sample_parties, [])\n",
    "\n",
    "# concatenate the answer vectors for the 5 election for each party except Republikaner\n",
    "for key in cluster_sample_parties:\n",
    "    new_vec = []\n",
    "    for cell in cluster_df[\"opinions\"]:\n",
    "        new_vec.extend(cell[key])\n",
    "    opinion_total[key] = new_vec"
   ]
  },
  {
   "cell_type": "markdown",
   "id": "d20c7444",
   "metadata": {},
   "source": [
    "# Try two different clusterings for robustness\n",
    "\n",
    "- KModes\n",
    "- Agglomerative CLustering"
   ]
  },
  {
   "cell_type": "markdown",
   "id": "34852b28",
   "metadata": {},
   "source": [
    "#### custering Kmodes"
   ]
  },
  {
   "cell_type": "code",
   "execution_count": 51,
   "id": "7743404a",
   "metadata": {},
   "outputs": [],
   "source": [
    "import numpy as np\n",
    "from kmodes.kmodes import KModes\n",
    "\n",
    "data = np.array(list(opinion_total.values()))"
   ]
  },
  {
   "cell_type": "code",
   "execution_count": 52,
   "id": "5a8f8e88",
   "metadata": {},
   "outputs": [
    {
     "data": {
      "text/plain": [
       "array([[1, 0, 1, ..., 2, 1, 0],\n",
       "       [1, 0, 1, ..., 2, 1, 0],\n",
       "       [1, 2, 1, ..., 1, 1, 2],\n",
       "       ...,\n",
       "       [1, 1, 1, ..., 1, 1, 0],\n",
       "       [0, 1, 0, ..., 0, 0, 1],\n",
       "       [0, 0, 0, ..., 0, 0, 1]])"
      ]
     },
     "execution_count": 52,
     "metadata": {},
     "output_type": "execute_result"
    }
   ],
   "source": [
    "data"
   ]
  },
  {
   "cell_type": "code",
   "execution_count": 53,
   "id": "ccb474eb",
   "metadata": {},
   "outputs": [
    {
     "name": "stdout",
     "output_type": "stream",
     "text": [
      "Init: initializing centroids\n",
      "Init: initializing clusters\n",
      "Starting iterations...\n",
      "Run 1, iteration: 1/100, moves: 1, cost: 732.0\n",
      "Run 1, iteration: 2/100, moves: 0, cost: 732.0\n",
      "Init: initializing centroids\n",
      "Init: initializing clusters\n",
      "Starting iterations...\n",
      "Run 2, iteration: 1/100, moves: 1, cost: 732.0\n",
      "Run 2, iteration: 2/100, moves: 0, cost: 732.0\n",
      "Init: initializing centroids\n",
      "Init: initializing clusters\n",
      "Starting iterations...\n",
      "Run 3, iteration: 1/100, moves: 0, cost: 732.0\n",
      "Init: initializing centroids\n",
      "Init: initializing clusters\n",
      "Starting iterations...\n",
      "Run 4, iteration: 1/100, moves: 1, cost: 732.0\n",
      "Run 4, iteration: 2/100, moves: 0, cost: 732.0\n",
      "Init: initializing centroids\n",
      "Init: initializing clusters\n",
      "Starting iterations...\n",
      "Run 5, iteration: 1/100, moves: 2, cost: 732.0\n",
      "Run 5, iteration: 2/100, moves: 0, cost: 732.0\n",
      "Init: initializing centroids\n",
      "Init: initializing clusters\n",
      "Starting iterations...\n",
      "Run 6, iteration: 1/100, moves: 1, cost: 732.0\n",
      "Run 6, iteration: 2/100, moves: 0, cost: 732.0\n",
      "Init: initializing centroids\n",
      "Init: initializing clusters\n",
      "Starting iterations...\n",
      "Run 7, iteration: 1/100, moves: 3, cost: 752.0\n",
      "Run 7, iteration: 2/100, moves: 2, cost: 732.0\n",
      "Run 7, iteration: 3/100, moves: 0, cost: 732.0\n",
      "Init: initializing centroids\n",
      "Init: initializing clusters\n",
      "Starting iterations...\n",
      "Run 8, iteration: 1/100, moves: 2, cost: 750.0\n",
      "Run 8, iteration: 2/100, moves: 1, cost: 732.0\n",
      "Run 8, iteration: 3/100, moves: 0, cost: 732.0\n",
      "Init: initializing centroids\n",
      "Init: initializing clusters\n",
      "Starting iterations...\n",
      "Run 9, iteration: 1/100, moves: 2, cost: 732.0\n",
      "Run 9, iteration: 2/100, moves: 0, cost: 732.0\n",
      "Init: initializing centroids\n",
      "Init: initializing clusters\n",
      "Starting iterations...\n",
      "Run 10, iteration: 1/100, moves: 1, cost: 732.0\n",
      "Run 10, iteration: 2/100, moves: 0, cost: 732.0\n",
      "Best run was number 1\n"
     ]
    }
   ],
   "source": [
    "km = KModes(n_clusters=2, init='Huang', n_init=10, verbose=1)\n",
    "\n",
    "clusters = km.fit_predict(data)"
   ]
  },
  {
   "cell_type": "code",
   "execution_count": 54,
   "id": "efa17206",
   "metadata": {},
   "outputs": [
    {
     "data": {
      "text/plain": [
       "{0: [3, 4, 5, 8, 10, 11, 13, 14], 1: [0, 1, 2, 6, 7, 9, 12]}"
      ]
     },
     "execution_count": 54,
     "metadata": {},
     "output_type": "execute_result"
    }
   ],
   "source": [
    "# get clustering\n",
    "cluster = {}\n",
    "\n",
    "for i,e in enumerate(km.labels_):\n",
    "    if e not in cluster.keys():\n",
    "        cluster[e] = [party[i][\"id\"]]\n",
    "    else:\n",
    "        cluster[e].append(party[i][\"id\"])\n",
    "        \n",
    "cluster = dict(sorted(cluster.items()))\n",
    "cluster"
   ]
  },
  {
   "cell_type": "code",
   "execution_count": 55,
   "id": "1cab0b84",
   "metadata": {},
   "outputs": [],
   "source": [
    "# translate dict for ids from clustering\n",
    "cl_p_dict = dict.fromkeys(range(0,15))\n",
    "for i,p in enumerate(opinion_total.keys()):\n",
    "    cl_p_dict[i] = p"
   ]
  },
  {
   "cell_type": "code",
   "execution_count": 56,
   "id": "ebc5cdf4",
   "metadata": {},
   "outputs": [
    {
     "data": {
      "text/plain": [
       "{0: 'CDU',\n",
       " 1: 'CSU',\n",
       " 2: 'FDP',\n",
       " 3: 'SPD',\n",
       " 4: 'GRÜNE',\n",
       " 5: 'Tierschutzpartei',\n",
       " 6: 'FREIE WÄHLER',\n",
       " 7: 'NPD',\n",
       " 8: 'Die PARTEI',\n",
       " 9: 'BP',\n",
       " 10: 'DIE LINKE',\n",
       " 11: 'PIRATEN',\n",
       " 12: 'AfD',\n",
       " 13: 'MLPD',\n",
       " 14: 'ÖDP'}"
      ]
     },
     "execution_count": 56,
     "metadata": {},
     "output_type": "execute_result"
    }
   ],
   "source": [
    "cl_p_dict"
   ]
  },
  {
   "cell_type": "code",
   "execution_count": 57,
   "id": "cbd856b7",
   "metadata": {},
   "outputs": [
    {
     "name": "stdout",
     "output_type": "stream",
     "text": [
      "Cluster: 0\n",
      "SPD\n",
      "GRÜNE\n",
      "Tierschutzpartei\n",
      "Die PARTEI\n",
      "DIE LINKE\n",
      "PIRATEN\n",
      "MLPD\n",
      "ÖDP\n",
      "Cluster: 1\n",
      "CDU\n",
      "CSU\n",
      "FDP\n",
      "FREIE WÄHLER\n",
      "NPD\n",
      "BP\n",
      "AfD\n"
     ]
    }
   ],
   "source": [
    "# print cluster\n",
    "for c,ps in cluster.items():\n",
    "    print(f\"Cluster: {c}\")\n",
    "    for p in ps:\n",
    "        print(cl_p_dict[p])"
   ]
  },
  {
   "cell_type": "code",
   "execution_count": 58,
   "id": "a59eee93",
   "metadata": {},
   "outputs": [],
   "source": [
    "# bi-polar clustering left/right leaning fitting common conception"
   ]
  },
  {
   "cell_type": "markdown",
   "id": "64dc0538",
   "metadata": {},
   "source": [
    "#### hirarchical clustering\n",
    "\n",
    "\n"
   ]
  },
  {
   "cell_type": "code",
   "execution_count": 59,
   "id": "b5dbd18b",
   "metadata": {},
   "outputs": [],
   "source": [
    "import sklearn\n",
    "from sklearn.cluster import AgglomerativeClustering as AG"
   ]
  },
  {
   "cell_type": "code",
   "execution_count": 60,
   "id": "0d59a190",
   "metadata": {},
   "outputs": [],
   "source": [
    "clustering = AG().fit(data)"
   ]
  },
  {
   "cell_type": "code",
   "execution_count": 61,
   "id": "c19ae38d",
   "metadata": {},
   "outputs": [
    {
     "data": {
      "text/plain": [
       "array([0, 0, 0, 1, 1, 1, 0, 0, 1, 0, 1, 1, 0, 1, 1], dtype=int64)"
      ]
     },
     "execution_count": 61,
     "metadata": {},
     "output_type": "execute_result"
    }
   ],
   "source": [
    "clustering.labels_"
   ]
  },
  {
   "cell_type": "code",
   "execution_count": 62,
   "id": "cb83d80d",
   "metadata": {},
   "outputs": [
    {
     "data": {
      "text/plain": [
       "[{'id': 0, 'message': 'Stimme zu'},\n",
       " {'id': 1, 'message': 'Stimme nicht zu'},\n",
       " {'id': 2, 'message': 'Neutral'}]"
      ]
     },
     "execution_count": 62,
     "metadata": {},
     "output_type": "execute_result"
    }
   ],
   "source": [
    "wahlomat_data[\"Bundestagswahl 2013\"][\"answer\"]"
   ]
  },
  {
   "cell_type": "code",
   "execution_count": 63,
   "id": "3a9e6e4e",
   "metadata": {},
   "outputs": [],
   "source": [
    "### what is needed:\n",
    "\n",
    "# transform data to ordinal logic:\n",
    "# switch 1 and 2\n",
    "## > stimm zu > neutral > stimme nicht zu\n",
    "\n",
    "data[data==1] = 5 # placeholder\n",
    "\n",
    "data[data==2] = 1\n",
    "\n",
    "data[data==5] = 2"
   ]
  },
  {
   "cell_type": "code",
   "execution_count": 64,
   "id": "988f9136",
   "metadata": {},
   "outputs": [
    {
     "data": {
      "text/plain": [
       "array([[2, 0, 2, ..., 1, 2, 0],\n",
       "       [2, 0, 2, ..., 1, 2, 0],\n",
       "       [2, 1, 2, ..., 2, 2, 1],\n",
       "       ...,\n",
       "       [2, 2, 2, ..., 2, 2, 0],\n",
       "       [0, 2, 0, ..., 0, 0, 2],\n",
       "       [0, 0, 0, ..., 0, 0, 2]])"
      ]
     },
     "execution_count": 64,
     "metadata": {},
     "output_type": "execute_result"
    }
   ],
   "source": [
    "data"
   ]
  },
  {
   "cell_type": "code",
   "execution_count": 65,
   "id": "659172ef",
   "metadata": {},
   "outputs": [
    {
     "data": {
      "image/png": "[encoded data removed]",
      "text/plain": [
       "<Figure size 1080x216 with 1 Axes>"
      ]
     },
     "metadata": {
      "needs_background": "light"
     },
     "output_type": "display_data"
    }
   ],
   "source": [
    "#https://scikit-learn.org/stable/auto_examples/cluster/plot_agglomerative_dendrogram.html\n",
    "\n",
    "import numpy as np\n",
    "\n",
    "from matplotlib import pyplot as plt\n",
    "from scipy.cluster.hierarchy import dendrogram\n",
    "from sklearn.datasets import load_iris\n",
    "from sklearn.cluster import AgglomerativeClustering\n",
    "\n",
    "\n",
    "def plot_dendrogram(model, **kwargs):\n",
    "    # Create linkage matrix and then plot the dendrogram\n",
    "\n",
    "    # create the counts of samples under each node\n",
    "    counts = np.zeros(model.children_.shape[0])\n",
    "    n_samples = len(model.labels_)\n",
    "    for i, merge in enumerate(model.children_):\n",
    "        current_count = 0\n",
    "        for child_idx in merge:\n",
    "            if child_idx < n_samples:\n",
    "                current_count += 1  # leaf node\n",
    "            else:\n",
    "                current_count += counts[child_idx - n_samples]\n",
    "        counts[i] = current_count\n",
    "\n",
    "    linkage_matrix = np.column_stack(\n",
    "        [model.children_, model.distances_, counts]\n",
    "    ).astype(float)\n",
    "\n",
    "    # Plot the corresponding dendrogram\n",
    "    dendrogram(linkage_matrix, **kwargs, labels=list(cl_p_dict.values()))\n",
    "\n",
    "\n",
    "X = data\n",
    "\n",
    "# setting distance_threshold=0 ensures we compute the full tree.\n",
    "model = AgglomerativeClustering(distance_threshold=0, n_clusters=None)\n",
    "\n",
    "model = model.fit(X)\n",
    "\n",
    "\n",
    "plt.figure(figsize=(15,3))\n",
    "plt.title(\"Hierarchical Clustering Dendrogram without REP\")\n",
    "# plot the top three levels of the dendrogram\n",
    "plot_dendrogram(model, truncate_mode=\"level\", p=14)\n",
    "plt.xticks(rotation=45)\n",
    "plt.savefig(\"plots/dendo_classification.png\",bbox_inches='tight')\n",
    "\n",
    "plt.show()"
   ]
  },
  {
   "cell_type": "code",
   "execution_count": 66,
   "id": "e581a6d3",
   "metadata": {},
   "outputs": [
    {
     "data": {
      "text/plain": [
       "array([0, 0, 0, 1, 1, 1, 0, 0, 1, 0, 1, 1, 0, 1, 1], dtype=int64)"
      ]
     },
     "execution_count": 66,
     "metadata": {},
     "output_type": "execute_result"
    }
   ],
   "source": [
    "# generate dummy variables for political_leaning (0=right,1=left)\n",
    "\n",
    "clustering.labels_"
   ]
  },
  {
   "cell_type": "code",
   "execution_count": 67,
   "id": "254dcc62",
   "metadata": {},
   "outputs": [
    {
     "data": {
      "text/plain": [
       "dict_keys(['CDU', 'CSU', 'FDP', 'SPD', 'GRÜNE', 'Tierschutzpartei', 'FREIE WÄHLER', 'NPD', 'Die PARTEI', 'BP', 'DIE LINKE', 'PIRATEN', 'AfD', 'MLPD', 'ÖDP'])"
      ]
     },
     "execution_count": 67,
     "metadata": {},
     "output_type": "execute_result"
    }
   ],
   "source": [
    "opinion_total.keys()\n",
    "# Die PARTEI > DIE "
   ]
  },
  {
   "cell_type": "code",
   "execution_count": 68,
   "id": "ca984b76",
   "metadata": {},
   "outputs": [],
   "source": [
    "leaning_dict = {k.upper():v for k,v in zip(opinion_total.keys(),clustering.labels_)}\n",
    "leaning_dict[\"LINKE\"] = leaning_dict.pop(\"DIE LINKE\")\n",
    "leaning_dict[\"REP\"] = 0 #manually added do proof !!!!"
   ]
  },
  {
   "cell_type": "code",
   "execution_count": 69,
   "id": "9eddc610",
   "metadata": {},
   "outputs": [],
   "source": [
    "election_df[\"leaning\"] = [leaning_dict[party] for party in election_df[\"party\"]]"
   ]
  },
  {
   "cell_type": "code",
   "execution_count": 70,
   "id": "94067716",
   "metadata": {},
   "outputs": [
    {
     "data": {
      "text/plain": [
       "{'CDU': 0,\n",
       " 'CSU': 0,\n",
       " 'FDP': 0,\n",
       " 'SPD': 1,\n",
       " 'GRÜNE': 1,\n",
       " 'TIERSCHUTZPARTEI': 1,\n",
       " 'FREIE WÄHLER': 0,\n",
       " 'NPD': 0,\n",
       " 'DIE PARTEI': 1,\n",
       " 'BP': 0,\n",
       " 'PIRATEN': 1,\n",
       " 'AFD': 0,\n",
       " 'MLPD': 1,\n",
       " 'ÖDP': 1,\n",
       " 'LINKE': 1,\n",
       " 'REP': 0}"
      ]
     },
     "execution_count": 70,
     "metadata": {},
     "output_type": "execute_result"
    }
   ],
   "source": [
    "leaning_dict"
   ]
  },
  {
   "cell_type": "code",
   "execution_count": 71,
   "id": "ce8dab0b",
   "metadata": {},
   "outputs": [
    {
     "data": {
      "text/html": [
       "<div>\n",
       "<style scoped>\n",
       "    .dataframe tbody tr th:only-of-type {\n",
       "        vertical-align: middle;\n",
       "    }\n",
       "\n",
       "    .dataframe tbody tr th {\n",
       "        vertical-align: top;\n",
       "    }\n",
       "\n",
       "    .dataframe thead th {\n",
       "        text-align: right;\n",
       "    }\n",
       "</style>\n",
       "<table border=\"1\" class=\"dataframe\">\n",
       "  <thead>\n",
       "    <tr style=\"text-align: right;\">\n",
       "      <th></th>\n",
       "      <th>party</th>\n",
       "      <th>pct</th>\n",
       "      <th>election</th>\n",
       "      <th>election_only</th>\n",
       "      <th>year</th>\n",
       "      <th>level</th>\n",
       "      <th>date</th>\n",
       "      <th>leaning</th>\n",
       "    </tr>\n",
       "  </thead>\n",
       "  <tbody>\n",
       "    <tr>\n",
       "      <th>0</th>\n",
       "      <td>PIRATEN</td>\n",
       "      <td>8.90</td>\n",
       "      <td>Abgeordnetenhauswahl Berlin 2011</td>\n",
       "      <td>Abgeordnetenhauswahl Berlin</td>\n",
       "      <td>2011</td>\n",
       "      <td>federal state</td>\n",
       "      <td>2011-09-18T00:00:00</td>\n",
       "      <td>1</td>\n",
       "    </tr>\n",
       "    <tr>\n",
       "      <th>1</th>\n",
       "      <td>DIE PARTEI</td>\n",
       "      <td>0.88</td>\n",
       "      <td>Abgeordnetenhauswahl Berlin 2011</td>\n",
       "      <td>Abgeordnetenhauswahl Berlin</td>\n",
       "      <td>2011</td>\n",
       "      <td>federal state</td>\n",
       "      <td>2011-09-18T00:00:00</td>\n",
       "      <td>1</td>\n",
       "    </tr>\n",
       "    <tr>\n",
       "      <th>2</th>\n",
       "      <td>ÖDP</td>\n",
       "      <td>0.13</td>\n",
       "      <td>Abgeordnetenhauswahl Berlin 2011</td>\n",
       "      <td>Abgeordnetenhauswahl Berlin</td>\n",
       "      <td>2011</td>\n",
       "      <td>federal state</td>\n",
       "      <td>2011-09-18T00:00:00</td>\n",
       "      <td>1</td>\n",
       "    </tr>\n",
       "    <tr>\n",
       "      <th>3</th>\n",
       "      <td>DIE PARTEI</td>\n",
       "      <td>1.95</td>\n",
       "      <td>Abgeordnetenhauswahl Berlin 2016</td>\n",
       "      <td>Abgeordnetenhauswahl Berlin</td>\n",
       "      <td>2016</td>\n",
       "      <td>federal state</td>\n",
       "      <td>2016-09-18T00:00:00</td>\n",
       "      <td>1</td>\n",
       "    </tr>\n",
       "    <tr>\n",
       "      <th>4</th>\n",
       "      <td>PIRATEN</td>\n",
       "      <td>1.73</td>\n",
       "      <td>Abgeordnetenhauswahl Berlin 2016</td>\n",
       "      <td>Abgeordnetenhauswahl Berlin</td>\n",
       "      <td>2016</td>\n",
       "      <td>federal state</td>\n",
       "      <td>2016-09-18T00:00:00</td>\n",
       "      <td>1</td>\n",
       "    </tr>\n",
       "  </tbody>\n",
       "</table>\n",
       "</div>"
      ],
      "text/plain": [
       "        party   pct                          election  \\\n",
       "0     PIRATEN  8.90  Abgeordnetenhauswahl Berlin 2011   \n",
       "1  DIE PARTEI  0.88  Abgeordnetenhauswahl Berlin 2011   \n",
       "2         ÖDP  0.13  Abgeordnetenhauswahl Berlin 2011   \n",
       "3  DIE PARTEI  1.95  Abgeordnetenhauswahl Berlin 2016   \n",
       "4     PIRATEN  1.73  Abgeordnetenhauswahl Berlin 2016   \n",
       "\n",
       "                 election_only  year          level                 date  \\\n",
       "0  Abgeordnetenhauswahl Berlin  2011  federal state  2011-09-18T00:00:00   \n",
       "1  Abgeordnetenhauswahl Berlin  2011  federal state  2011-09-18T00:00:00   \n",
       "2  Abgeordnetenhauswahl Berlin  2011  federal state  2011-09-18T00:00:00   \n",
       "3  Abgeordnetenhauswahl Berlin  2016  federal state  2016-09-18T00:00:00   \n",
       "4  Abgeordnetenhauswahl Berlin  2016  federal state  2016-09-18T00:00:00   \n",
       "\n",
       "   leaning  \n",
       "0        1  \n",
       "1        1  \n",
       "2        1  \n",
       "3        1  \n",
       "4        1  "
      ]
     },
     "execution_count": 71,
     "metadata": {},
     "output_type": "execute_result"
    }
   ],
   "source": [
    "election_df.head()"
   ]
  },
  {
   "cell_type": "code",
   "execution_count": 72,
   "id": "8fca60d8",
   "metadata": {},
   "outputs": [],
   "source": [
    "import pickle\n",
    "file = open(\"data/election_leaning.obj\",\"wb\")\n",
    "pickle.dump(election_df,file)\n",
    "file.close()"
   ]
  },
  {
   "cell_type": "markdown",
   "id": "c7fbe6ae",
   "metadata": {},
   "source": [
    "# Proof for classification of Republikaner"
   ]
  },
  {
   "cell_type": "code",
   "execution_count": 73,
   "id": "6645ff8e",
   "metadata": {},
   "outputs": [
    {
     "name": "stdout",
     "output_type": "stream",
     "text": [
      "0\n",
      "1\n"
     ]
    }
   ],
   "source": [
    "# check in which subset REP participated\n",
    "\n",
    "for i,d in enumerate(cluster_df[\"opinions\"]):\n",
    "    if \"REP\" in d.keys():\n",
    "        print(i)"
   ]
  },
  {
   "cell_type": "code",
   "execution_count": 74,
   "id": "612949db",
   "metadata": {},
   "outputs": [],
   "source": [
    "# first two rows, repeat clustering with that subset\n",
    "\n",
    "cluster_df_rep = cluster_df.iloc[:2,:]"
   ]
  },
  {
   "cell_type": "code",
   "execution_count": 75,
   "id": "a2c639b7",
   "metadata": {},
   "outputs": [
    {
     "data": {
      "text/html": [
       "<div>\n",
       "<style scoped>\n",
       "    .dataframe tbody tr th:only-of-type {\n",
       "        vertical-align: middle;\n",
       "    }\n",
       "\n",
       "    .dataframe tbody tr th {\n",
       "        vertical-align: top;\n",
       "    }\n",
       "\n",
       "    .dataframe thead th {\n",
       "        text-align: right;\n",
       "    }\n",
       "</style>\n",
       "<table border=\"1\" class=\"dataframe\">\n",
       "  <thead>\n",
       "    <tr style=\"text-align: right;\">\n",
       "      <th></th>\n",
       "      <th>election</th>\n",
       "      <th>name</th>\n",
       "      <th>date</th>\n",
       "      <th>opinions</th>\n",
       "    </tr>\n",
       "  </thead>\n",
       "  <tbody>\n",
       "    <tr>\n",
       "      <th>0</th>\n",
       "      <td>Bundestagswahl 2013</td>\n",
       "      <td>Bundestagswahl</td>\n",
       "      <td>2013-09-22</td>\n",
       "      <td>{'SPD': [0, 1, 1, 0, 0, 2, 1, 2, 0, 0, 1, 1, 1...</td>\n",
       "    </tr>\n",
       "    <tr>\n",
       "      <th>1</th>\n",
       "      <td>Europawahl 2014</td>\n",
       "      <td>Europawahl</td>\n",
       "      <td>2014-05-25</td>\n",
       "      <td>{'CDU': [0, 1, 2, 1, 1, 2, 1, 1, 2, 0, 0, 1, 1...</td>\n",
       "    </tr>\n",
       "  </tbody>\n",
       "</table>\n",
       "</div>"
      ],
      "text/plain": [
       "              election            name        date  \\\n",
       "0  Bundestagswahl 2013  Bundestagswahl  2013-09-22   \n",
       "1      Europawahl 2014      Europawahl  2014-05-25   \n",
       "\n",
       "                                            opinions  \n",
       "0  {'SPD': [0, 1, 1, 0, 0, 2, 1, 2, 0, 0, 1, 1, 1...  \n",
       "1  {'CDU': [0, 1, 2, 1, 1, 2, 1, 1, 2, 0, 0, 1, 1...  "
      ]
     },
     "execution_count": 75,
     "metadata": {},
     "output_type": "execute_result"
    }
   ],
   "source": [
    "cluster_df_rep"
   ]
  },
  {
   "cell_type": "code",
   "execution_count": 76,
   "id": "9930f7f5",
   "metadata": {},
   "outputs": [],
   "source": [
    "parties_sets = []\n",
    "\n",
    "for i in cluster_df_rep[\"opinions\"]:\n",
    "    parties_sets.append(set(i.keys()))\n",
    "    "
   ]
  },
  {
   "cell_type": "code",
   "execution_count": 77,
   "id": "a2394fce",
   "metadata": {},
   "outputs": [
    {
     "name": "stdout",
     "output_type": "stream",
     "text": [
      "Volksabstimmung\n",
      "GRÜNE\n",
      "BüSo\n",
      "NPD\n",
      "BP\n",
      "CDU\n",
      "FDP\n",
      "FAMILIE\n",
      "REP\n",
      "Die PARTEI\n",
      "DIE LINKE\n",
      "MLPD\n",
      "ÖDP\n",
      "CSU\n",
      "PBC\n",
      "FREIE WÄHLER\n",
      "PSG\n",
      "PIRATEN\n",
      "SPD\n",
      "Tierschutzpartei\n",
      "AfD\n"
     ]
    }
   ],
   "source": [
    "cluster_sample_parties = list(set.intersection(*parties_sets))\n",
    "opinion_total = dict.fromkeys(cluster_sample_parties, [])\n",
    "\n",
    "for key in cluster_sample_parties:\n",
    "    print(key)\n",
    "    new_vec = []\n",
    "    for cell in cluster_df_rep[\"opinions\"]:\n",
    "        new_vec.extend(cell[key])\n",
    "    opinion_total[key] = new_vec"
   ]
  },
  {
   "cell_type": "code",
   "execution_count": 78,
   "id": "8fed74fd",
   "metadata": {},
   "outputs": [],
   "source": [
    "data = np.array(list(opinion_total.values()))\n",
    "\n",
    "data[data==1] = 5 # placeholder\n",
    "\n",
    "data[data==2] = 1\n",
    "\n",
    "data[data==5] = 2"
   ]
  },
  {
   "cell_type": "code",
   "execution_count": 79,
   "id": "42ab5a9e",
   "metadata": {},
   "outputs": [
    {
     "data": {
      "text/plain": [
       "15"
      ]
     },
     "execution_count": 79,
     "metadata": {},
     "output_type": "execute_result"
    }
   ],
   "source": [
    "len(clustering.labels_)"
   ]
  },
  {
   "cell_type": "code",
   "execution_count": 80,
   "id": "d1f2f3d0",
   "metadata": {},
   "outputs": [],
   "source": [
    "cl_p_dict = dict.fromkeys(range(0,21))\n",
    "for i,p in enumerate(opinion_total.keys()):\n",
    "    cl_p_dict[i] = p"
   ]
  },
  {
   "cell_type": "code",
   "execution_count": 81,
   "id": "7c488f0d",
   "metadata": {},
   "outputs": [
    {
     "data": {
      "image/png": "[encoded data removed]",
      "text/plain": [
       "<Figure size 1080x216 with 1 Axes>"
      ]
     },
     "metadata": {
      "needs_background": "light"
     },
     "output_type": "display_data"
    }
   ],
   "source": [
    "#https://scikit-learn.org/stable/auto_examples/cluster/plot_agglomerative_dendrogram.html\n",
    "\n",
    "import numpy as np\n",
    "\n",
    "from matplotlib import pyplot as plt\n",
    "from scipy.cluster.hierarchy import dendrogram\n",
    "from sklearn.datasets import load_iris\n",
    "from sklearn.cluster import AgglomerativeClustering\n",
    "\n",
    "\n",
    "def plot_dendrogram(model, **kwargs):\n",
    "    # Create linkage matrix and then plot the dendrogram\n",
    "\n",
    "    # create the counts of samples under each node\n",
    "    counts = np.zeros(model.children_.shape[0])\n",
    "    n_samples = len(model.labels_)\n",
    "    for i, merge in enumerate(model.children_):\n",
    "        current_count = 0\n",
    "        for child_idx in merge:\n",
    "            if child_idx < n_samples:\n",
    "                current_count += 1  # leaf node\n",
    "            else:\n",
    "                current_count += counts[child_idx - n_samples]\n",
    "        counts[i] = current_count\n",
    "\n",
    "    linkage_matrix = np.column_stack(\n",
    "        [model.children_, model.distances_, counts]\n",
    "    ).astype(float)\n",
    "\n",
    "    # Plot the corresponding dendrogram\n",
    "    dendrogram(linkage_matrix, **kwargs, labels=list(cl_p_dict.values()))\n",
    "\n",
    "\n",
    "X = data\n",
    "\n",
    "# setting distance_threshold=0 ensures we compute the full tree.\n",
    "model = AgglomerativeClustering(distance_threshold=0, n_clusters=None)\n",
    "\n",
    "model = model.fit(X)\n",
    "\n",
    "\n",
    "plt.figure(figsize=(15,3))\n",
    "plt.title(\"Hierarchical Clustering Dendrogram, REP Elections\")\n",
    "# plot the top three levels of the dendrogram\n",
    "plot_dendrogram(model, truncate_mode=\"level\", p=14)\n",
    "plt.xlabel(\"Number of points in node (or index of point if no parenthesis).\")\n",
    "plt.xticks(rotation=45)\n",
    "plt.savefig(\"plots/dendo_classification_rep.png\",bbox_inches='tight')\n",
    "plt.show()"
   ]
  },
  {
   "cell_type": "code",
   "execution_count": null,
   "id": "9a703ce3",
   "metadata": {},
   "outputs": [],
   "source": []
  },
  {
   "cell_type": "code",
   "execution_count": null,
   "id": "97c2b241",
   "metadata": {},
   "outputs": [],
   "source": []
  },
  {
   "cell_type": "code",
   "execution_count": null,
   "id": "97073f7f",
   "metadata": {},
   "outputs": [],
   "source": []
  }
 ],
 "metadata": {
  "kernelspec": {
   "display_name": "Python 3 (ipykernel)",
   "language": "python",
   "name": "python3"
  },
  "language_info": {
   "codemirror_mode": {
    "name": "ipython",
    "version": 3
   },
   "file_extension": ".py",
   "mimetype": "text/x-python",
   "name": "python",
   "nbconvert_exporter": "python",
   "pygments_lexer": "ipython3",
   "version": "3.9.6"
  }
 },
 "nbformat": 4,
 "nbformat_minor": 5
}
